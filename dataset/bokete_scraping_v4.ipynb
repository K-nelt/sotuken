{
  "cells": [
    {
      "cell_type": "code",
      "execution_count": null,
      "metadata": {
        "colab": {
          "base_uri": "https://localhost:8080/",
          "height": 243
        },
        "id": "pjZeKNJu2syl",
        "outputId": "29adc367-feb3-48d6-b626-71a2c9e8ce46"
      },
      "outputs": [
        {
          "output_type": "error",
          "ename": "IndexError",
          "evalue": "ignored",
          "traceback": [
            "\u001b[0;31m---------------------------------------------------------------------------\u001b[0m",
            "\u001b[0;31mIndexError\u001b[0m                                Traceback (most recent call last)",
            "\u001b[0;32m<ipython-input-3-56baaa6629b0>\u001b[0m in \u001b[0;36m<cell line: 13>\u001b[0;34m()\u001b[0m\n\u001b[1;32m     14\u001b[0m     \u001b[0;31m# 保存先のディレクトリがある場合, すでにあるデータの一番最後の番号から始める\u001b[0m\u001b[0;34m\u001b[0m\u001b[0;34m\u001b[0m\u001b[0m\n\u001b[1;32m     15\u001b[0m     \u001b[0mdatas\u001b[0m \u001b[0;34m=\u001b[0m \u001b[0mos\u001b[0m\u001b[0;34m.\u001b[0m\u001b[0mlistdir\u001b[0m\u001b[0;34m(\u001b[0m\u001b[0msave_dir\u001b[0m\u001b[0;34m)\u001b[0m\u001b[0;34m\u001b[0m\u001b[0;34m\u001b[0m\u001b[0m\n\u001b[0;32m---> 16\u001b[0;31m     \u001b[0mstart_num\u001b[0m \u001b[0;34m=\u001b[0m \u001b[0mlist\u001b[0m\u001b[0;34m(\u001b[0m\u001b[0msorted\u001b[0m\u001b[0;34m(\u001b[0m\u001b[0;34m[\u001b[0m\u001b[0mint\u001b[0m\u001b[0;34m(\u001b[0m\u001b[0mD\u001b[0m\u001b[0;34m.\u001b[0m\u001b[0msplit\u001b[0m\u001b[0;34m(\u001b[0m\u001b[0;34m\".\"\u001b[0m\u001b[0;34m)\u001b[0m\u001b[0;34m[\u001b[0m\u001b[0;36m0\u001b[0m\u001b[0;34m]\u001b[0m\u001b[0;34m)\u001b[0m \u001b[0;32mfor\u001b[0m \u001b[0mD\u001b[0m \u001b[0;32min\u001b[0m \u001b[0mdatas\u001b[0m\u001b[0;34m]\u001b[0m\u001b[0;34m)\u001b[0m\u001b[0;34m)\u001b[0m\u001b[0;34m[\u001b[0m\u001b[0;34m-\u001b[0m\u001b[0;36m1\u001b[0m\u001b[0;34m]\u001b[0m\u001b[0;34m\u001b[0m\u001b[0;34m\u001b[0m\u001b[0m\n\u001b[0m\u001b[1;32m     17\u001b[0m \u001b[0;32melse\u001b[0m\u001b[0;34m:\u001b[0m\u001b[0;34m\u001b[0m\u001b[0;34m\u001b[0m\u001b[0m\n\u001b[1;32m     18\u001b[0m     \u001b[0;31m# 保存先のディレクトリがない場合, 1番のデータから始める\u001b[0m\u001b[0;34m\u001b[0m\u001b[0;34m\u001b[0m\u001b[0m\n",
            "\u001b[0;31mIndexError\u001b[0m: list index out of range"
          ]
        }
      ],
      "source": [
        "import json\n",
        "from lxml import html\n",
        "from lxml.etree import tostring\n",
        "import os\n",
        "import shutil\n",
        "import requests\n",
        "import time\n",
        "import numpy as np\n",
        "\n",
        "# 保存先のディレクトリのパス\n",
        "save_dir = \"/content/boke_data\"\n",
        "\n",
        "if os.path.exists(save_dir):\n",
        "    # 保存先のディレクトリがある場合, すでにあるデータの一番最後の番号から始める\n",
        "    datas = os.listdir(save_dir)\n",
        "    start_num = list(sorted([int(D.split(\".\")[0]) for D in datas]))[-1]\n",
        "else:\n",
        "    # 保存先のディレクトリがない場合, 1番のデータから始める\n",
        "    os.mkdir(save_dir)\n",
        "    start_num = 100\n",
        "print(start_num)\n",
        "# スクレイピングしたい最後の番号\n",
        "end_num = 100000\n",
        "\n",
        "# header関連. botブロック対策\n",
        "home_url = 'https://bokete.jp'\n",
        "headers = {\n",
        "      \"User-Agent\": \"Mozilla/5.0 (Windows NT 10.0; Win64; x64) AppleWebKit/537.36 (KHTML, like Gecko) Chrome/109.0.0.0 Safari/537.36\",\n",
        "      \"referer\" : home_url\n",
        "}\n",
        "# ユーザーエージェントは下記のサイトから取得できる\n",
        "# https://testpage.jp/tool/ip_user_agent.php\n",
        "\n",
        "for i in range(start_num, end_num):\n",
        "    page_num = 1\n",
        "    # ボケ文章とそれに対応する星を格納する配列\n",
        "    tmp = []\n",
        "\n",
        "    while True:\n",
        "        # botブロック対策に0~4秒でランダムに待つ\n",
        "        time.sleep(np.random.randint(5))\n",
        "\n",
        "        # スクレイピングしたいURL\n",
        "        URL = f\"https://bokete.jp/odai/{i}?page={page_num}\"\n",
        "        # URLからHTMLを文字列にして取得\n",
        "        res = requests.get(URL, headers = headers)\n",
        "        # 文字列のHTMLをマークダウン方式に変換\n",
        "        row_html = html.fromstring(res.text)\n",
        "\n",
        "        # 取得したい要素のxpathを引数に指定, 対応する要素が配列に格納される\n",
        "        # 以下の例では, ボケ文章とそれに対応する星(評価)を取得している\n",
        "        bokes = row_html.xpath(\"//*[@id='content']/div/a/div\")\n",
        "        stars = row_html.xpath('//*[@id=\"content\"]/div/div[2]/div[1]/div/div[1]/a')\n",
        "        images = row_html.xpath('//*[@id=\"content\"]/div/div/div/a/img/@src')\n",
        "\n",
        "        # 終了条件\n",
        "        if len(stars) == 0:\n",
        "            break\n",
        "\n",
        "        for S, B, I in zip(stars, bokes, images):\n",
        "            # 文字列に変換\n",
        "            boke = B.text_content()\n",
        "            star = S.text_content()\n",
        "            image = I\n",
        "\n",
        "            # ボケ文章とそれに対応する星を辞書にして, 配列に格納\n",
        "            tmp.append( {\"boke\" : boke.replace(\"\\n\", \"\").replace(\" \", \"\"), \"star\" : int(star.replace(\"\\n\", \"\").replace(\" \", \"\").replace(\",\", \"\"))} )\n",
        "\n",
        "        # ページ番号を1つ進める\n",
        "        page_num += 1\n",
        "\n",
        "    if len(tmp) > 0:\n",
        "        with open(f\"{save_dir}/{i}.json\", \"w\") as f:\n",
        "            # jsonファイルに書き出し\n",
        "            json.dump(tmp, f)\n",
        "        print(i, len(tmp))"
      ]
    },
    {
      "cell_type": "code",
      "source": [
        "https://www.google.com/search?q=%E3%81%82%E3%81%B9%E3%81%AE%E3%83%8F%E3%83%AB%E3%82%AB%E3%82%B9&rlz=1C5CHFA_enJP986JP986&sxsrf=APwXEdeTKpL1u55GYJ0sN4N02rpdCCAZQQ%3A1686893317833&ei=BfOLZKy9MtrN2roP97KioAQ&ved=0ahUKEwjs0-6nh8f_AhXaplYBHXeZCEQQ4dUDCA8&uact=5&oq=%E3%81%82%E3%81%B9%E3%81%AE%E3%83%8F%E3%83%AB%E3%82%AB%E3%82%B9&gs_lcp=Cgxnd3Mtd2l6LXNlcnAQAzIECCMQJzIHCAAQBBCABDINCAAQBBCABBCxAxCDATIKCAAQBBCABBCxAzIKCAAQBBCABBCxAzINCAAQBBCABBCxAxCDATIHCAAQBBCABDIGCAAQAxAEMgcIABAEEIAEMgcIABAEEIAEOgcIIxCKBRAnOgkIABCKBRAKEEM6BwgAEIoFEEM6CggAEIoFELEDEEM6BwgjELECECdKBAhBGABQAFirE2D_GGgAcAF4AIABrwGIAbEOkgEEMC4xNJgBAKABAcABAQ&sclient=gws-wiz-serp#rlimm=535807412135534887:~:text=%E3%81%8B%E6%9C%88%E5%89%8D-,%E9%AB%98%E3%81%95%E6%97%A5%E6%9C%AC%E4%B8%80,-%EF%BC%81%E3%81%82%E3%81%B9%E3%81%AE%E3%83%8F%E3%83%AB%E3%82%AB%E3%82%B9"
      ],
      "metadata": {
        "id": "pwCM4T0Jrrnh"
      },
      "execution_count": null,
      "outputs": []
    }
  ],
  "metadata": {
    "kernelspec": {
      "display_name": "tensorflow_gpu_2_10_0",
      "language": "python",
      "name": "python3"
    },
    "language_info": {
      "codemirror_mode": {
        "name": "ipython",
        "version": 3
      },
      "file_extension": ".py",
      "mimetype": "text/x-python",
      "name": "python",
      "nbconvert_exporter": "python",
      "pygments_lexer": "ipython3",
      "version": "3.9.13"
    },
    "orig_nbformat": 4,
    "vscode": {
      "interpreter": {
        "hash": "c5764e1e93b2e8a28a089800df41163a9adb68b096b936c0596adf4bebf56967"
      }
    },
    "colab": {
      "provenance": []
    }
  },
  "nbformat": 4,
  "nbformat_minor": 0
}